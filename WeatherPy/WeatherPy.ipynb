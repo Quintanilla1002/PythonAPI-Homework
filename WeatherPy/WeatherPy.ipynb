{
 "cells": [
  {
   "cell_type": "markdown",
   "metadata": {},
   "source": [
    "# WeatherPy\n",
    "----\n",
    "\n",
    "#### Note\n",
    "* Instructions have been included for each segment. You do not have to follow them exactly, but they are included to help you think through the steps."
   ]
  },
  {
   "cell_type": "code",
   "execution_count": 1,
   "metadata": {
    "scrolled": true
   },
   "outputs": [],
   "source": [
    "# Dependencies and Setup\n",
    "import matplotlib.pyplot as plt\n",
    "import pandas as pd\n",
    "import numpy as np\n",
    "import requests\n",
    "import time\n",
    "from scipy.stats import linregress\n",
    "\n",
    "# Import API key\n",
    "from api_keys import weather_api_key\n",
    "\n",
    "# Incorporated citipy to determine city based on latitude and longitude\n",
    "from citipy import citipy\n",
    "\n",
    "# Output File (CSV)\n",
    "output_data_file = \"output_data/cities.csv\"\n",
    "\n",
    "# Range of latitudes and longitudes\n",
    "lat_range = (-90, 90)\n",
    "lng_range = (-180, 180)"
   ]
  },
  {
   "cell_type": "markdown",
   "metadata": {},
   "source": [
    "## Generate Cities List"
   ]
  },
  {
   "cell_type": "code",
   "execution_count": 2,
   "metadata": {},
   "outputs": [
    {
     "data": {
      "text/plain": [
       "647"
      ]
     },
     "execution_count": 2,
     "metadata": {},
     "output_type": "execute_result"
    }
   ],
   "source": [
    "# List for holding lat_lngs and cities\n",
    "lat_lngs = []\n",
    "cities = []\n",
    "\n",
    "# Create a set of random lat and lng combinations\n",
    "lats = np.random.uniform(lat_range[0], lat_range[1], size=1500)\n",
    "lngs = np.random.uniform(lng_range[0], lng_range[1], size=1500)\n",
    "lat_lngs = zip(lats, lngs)\n",
    "\n",
    "# Identify nearest city for each lat, lng combination\n",
    "for lat_lng in lat_lngs:\n",
    "    city = citipy.nearest_city(lat_lng[0], lat_lng[1]).city_name\n",
    "    \n",
    "    # If the city is unique, then add it to a our cities list\n",
    "    if city not in cities:\n",
    "        cities.append(city)\n",
    "\n",
    "# Print the city count to confirm sufficient count\n",
    "len(cities)\n"
   ]
  },
  {
   "cell_type": "markdown",
   "metadata": {},
   "source": [
    "### Perform API Calls\n",
    "* Perform a weather check on each city using a series of successive API calls.\n",
    "* Include a print log of each city as it'sbeing processed (with the city number and city name).\n"
   ]
  },
  {
   "cell_type": "code",
   "execution_count": 3,
   "metadata": {
    "scrolled": true
   },
   "outputs": [
    {
     "name": "stdout",
     "output_type": "stream",
     "text": [
      "http://api.openweathermap.org/data/2.5/weather?&appid=9812796e461981b836ad41e4050062d5&units=imperial&q=\n",
      "Processing Record 1 of set 1 | barrow\n",
      "Processing Record 2 of set 1 | phalombe\n",
      "Processing Record 3 of set 1 | thinadhoo\n",
      "Processing Record 4 of set 1 | kapaa\n",
      "Processing Record 5 of set 1 | albany\n",
      "Processing Record 6 of set 1 | genhe\n",
      "Processing Record 7 of set 1 | avarua\n",
      "Processing Record 8 of set 1 | novomykolayivka\n",
      "Processing Record 9 of set 1 | kushima\n",
      "Processing Record 10 of set 1 | ushuaia\n",
      "Processing Record 11 of set 1 | ribeirao bonito\n",
      "Processing Record 12 of set 1 | thompson\n",
      "Processing Record 13 of set 1 | acapulco\n",
      "Processing Record 14 of set 1 | kudahuvadhoo\n",
      "Processing Record 15 of set 1 | san carlos de bariloche\n",
      "Processing Record 16 of set 1 | atuona\n",
      "Processing Record 17 of set 1 | provideniya\n",
      "Processing Record 18 of set 1 | constitucion\n",
      "Processing Record 19 of set 1 | katsuura\n",
      "Processing Record 20 of set 1 | tiksi\n",
      "Processing Record 21 of set 1 | dunedin\n",
      "Processing Record 22 of set 1 | lebu\n",
      "Processing Record 23 of set 1 | jamestown\n",
      "Processing Record 24 of set 1 | port arthur\n",
      "Processing Record 25 of set 1 | qaanaaq\n",
      "Processing Record 26 of set 1 | port macquarie\n",
      "Processing Record 27 of set 1 | bereda\n",
      "Processing Record 28 of set 1 | port elizabeth\n",
      "City 'mocambique' not found. Skipping...\n",
      "Processing Record 29 of set 1 | tilichiki\n",
      "Processing Record 30 of set 1 | busselton\n",
      "Processing Record 31 of set 1 | georgetown\n",
      "Processing Record 32 of set 1 | yamada\n",
      "Processing Record 33 of set 1 | hilo\n",
      "Processing Record 34 of set 1 | vaini\n",
      "Processing Record 35 of set 1 | punta arenas\n",
      "Processing Record 36 of set 1 | kalabo\n",
      "Processing Record 37 of set 1 | yellowknife\n",
      "City 'amderma' not found. Skipping...\n",
      "Processing Record 38 of set 1 | puerto ayora\n",
      "Processing Record 39 of set 1 | bluff\n",
      "Processing Record 40 of set 1 | poya\n",
      "Processing Record 41 of set 1 | lompoc\n",
      "Processing Record 42 of set 1 | bethel\n",
      "Processing Record 43 of set 1 | aneho\n",
      "Processing Record 44 of set 1 | sao filipe\n",
      "Processing Record 45 of set 1 | dikson\n",
      "Processing Record 46 of set 1 | khatanga\n",
      "Processing Record 47 of set 1 | husavik\n",
      "Processing Record 48 of set 1 | flin flon\n",
      "Processing Record 49 of set 1 | honiara\n",
      "Processing Record 50 of set 1 | hermanus\n",
      "Processing Record 1 of set 2 | broome\n",
      "Processing Record 2 of set 2 | owo\n",
      "Processing Record 3 of set 2 | saryozek\n",
      "Processing Record 4 of set 2 | cape town\n",
      "Processing Record 5 of set 2 | mataura\n",
      "Processing Record 6 of set 2 | ribeira grande\n",
      "City 'belushya guba' not found. Skipping...\n",
      "Processing Record 7 of set 2 | saint-philippe\n",
      "Processing Record 8 of set 2 | new norfolk\n",
      "Processing Record 9 of set 2 | qaqortoq\n",
      "Processing Record 10 of set 2 | plettenberg bay\n",
      "Processing Record 11 of set 2 | hasaki\n",
      "Processing Record 12 of set 2 | hambantota\n",
      "Processing Record 13 of set 2 | manokwari\n",
      "Processing Record 14 of set 2 | maturin\n",
      "Processing Record 15 of set 2 | kavieng\n",
      "Processing Record 16 of set 2 | sibolga\n",
      "Processing Record 17 of set 2 | comodoro rivadavia\n",
      "City 'illoqqortoormiut' not found. Skipping...\n",
      "Processing Record 18 of set 2 | ilulissat\n",
      "Processing Record 19 of set 2 | rondonopolis\n",
      "Processing Record 20 of set 2 | alofi\n",
      "Processing Record 21 of set 2 | bambous virieux\n",
      "Processing Record 22 of set 2 | viedma\n",
      "Processing Record 23 of set 2 | chokurdakh\n",
      "Processing Record 24 of set 2 | santa fe\n",
      "City 'sentyabrskiy' not found. Skipping...\n",
      "Processing Record 25 of set 2 | bani\n",
      "Processing Record 26 of set 2 | talavera de la reina\n",
      "Processing Record 27 of set 2 | kosonsoy\n",
      "City 'umzimvubu' not found. Skipping...\n",
      "Processing Record 28 of set 2 | kodiak\n",
      "Processing Record 29 of set 2 | zitsa\n",
      "Processing Record 30 of set 2 | port lincoln\n",
      "Processing Record 31 of set 2 | jiazi\n",
      "Processing Record 32 of set 2 | vardo\n",
      "Processing Record 33 of set 2 | atocha\n",
      "City 'samusu' not found. Skipping...\n",
      "Processing Record 34 of set 2 | komsomolskiy\n",
      "Processing Record 35 of set 2 | sitka\n",
      "Processing Record 36 of set 2 | talakan\n",
      "Processing Record 37 of set 2 | laguna\n",
      "Processing Record 38 of set 2 | voitsberg\n",
      "City 'nizhneyansk' not found. Skipping...\n",
      "Processing Record 39 of set 2 | rikitea\n",
      "Processing Record 40 of set 2 | piet retief\n",
      "Processing Record 41 of set 2 | hobart\n",
      "Processing Record 42 of set 2 | severnyy\n",
      "Processing Record 43 of set 2 | antsohihy\n",
      "Processing Record 44 of set 2 | lichuan\n",
      "Processing Record 45 of set 2 | ostrovnoy\n",
      "Processing Record 46 of set 2 | henties bay\n",
      "Processing Record 47 of set 2 | saskylakh\n",
      "City 'one hundred mile house' not found. Skipping...\n",
      "Processing Record 48 of set 2 | porto novo\n",
      "Processing Record 49 of set 2 | ambon\n",
      "Processing Record 50 of set 2 | berekum\n",
      "Processing Record 1 of set 3 | makakilo city\n",
      "City 'hihifo' not found. Skipping...\n",
      "Processing Record 2 of set 3 | bredasdorp\n",
      "Processing Record 3 of set 3 | carutapera\n",
      "Processing Record 4 of set 3 | bathsheba\n",
      "Processing Record 5 of set 3 | vilcun\n",
      "Processing Record 6 of set 3 | vila franca do campo\n",
      "Processing Record 7 of set 3 | nyurba\n",
      "City 'sumbawa' not found. Skipping...\n",
      "Processing Record 8 of set 3 | blagodatnoye\n",
      "Processing Record 9 of set 3 | carnarvon\n",
      "Processing Record 10 of set 3 | ahipara\n",
      "Processing Record 11 of set 3 | campestre\n",
      "Processing Record 12 of set 3 | sambava\n",
      "Processing Record 13 of set 3 | cidreira\n",
      "City 'barentsburg' not found. Skipping...\n",
      "Processing Record 14 of set 3 | mantua\n",
      "Processing Record 15 of set 3 | nerchinskiy zavod\n",
      "Processing Record 16 of set 3 | yanam\n",
      "Processing Record 17 of set 3 | butaritari\n",
      "Processing Record 18 of set 3 | darhan\n",
      "Processing Record 19 of set 3 | normandin\n",
      "Processing Record 20 of set 3 | koratla\n",
      "Processing Record 21 of set 3 | shetpe\n",
      "Processing Record 22 of set 3 | ternate\n",
      "Processing Record 23 of set 3 | cockburn town\n",
      "Processing Record 24 of set 3 | luoyang\n",
      "Processing Record 25 of set 3 | erenhot\n",
      "Processing Record 26 of set 3 | dingle\n",
      "Processing Record 27 of set 3 | camacupa\n",
      "Processing Record 28 of set 3 | mercedes\n",
      "Processing Record 29 of set 3 | sola\n",
      "Processing Record 30 of set 3 | mount gambier\n",
      "Processing Record 31 of set 3 | mahebourg\n",
      "City 'taolanaro' not found. Skipping...\n",
      "Processing Record 32 of set 3 | oranjemund\n",
      "Processing Record 33 of set 3 | ponta do sol\n",
      "Processing Record 34 of set 3 | hofn\n",
      "City 'ondorhaan' not found. Skipping...\n",
      "City 'grand river south east' not found. Skipping...\n",
      "City 'liniere' not found. Skipping...\n",
      "Processing Record 35 of set 3 | birjand\n",
      "Processing Record 36 of set 3 | soe\n",
      "Processing Record 37 of set 3 | marsa matruh\n",
      "Processing Record 38 of set 3 | castro\n",
      "Processing Record 39 of set 3 | misratah\n",
      "Processing Record 40 of set 3 | avera\n",
      "Processing Record 41 of set 3 | port alfred\n",
      "Processing Record 42 of set 3 | praia\n",
      "Processing Record 43 of set 3 | kaseda\n",
      "City 'tsihombe' not found. Skipping...\n",
      "City 'longlac' not found. Skipping...\n",
      "Processing Record 44 of set 3 | kipini\n",
      "Processing Record 45 of set 3 | wilkie\n",
      "Processing Record 46 of set 3 | jasper\n",
      "Processing Record 47 of set 3 | bengkulu\n",
      "Processing Record 48 of set 3 | ouesso\n",
      "Processing Record 49 of set 3 | dunhua\n",
      "Processing Record 50 of set 3 | airai\n",
      "Processing Record 1 of set 4 | gondanglegi\n",
      "Processing Record 2 of set 4 | bandarbeyla\n",
      "Processing Record 3 of set 4 | murgab\n",
      "Processing Record 4 of set 4 | hwange\n",
      "Processing Record 5 of set 4 | mount pleasant\n",
      "Processing Record 6 of set 4 | dwarka\n",
      "Processing Record 7 of set 4 | vangaindrano\n",
      "Processing Record 8 of set 4 | dauphin\n",
      "Processing Record 9 of set 4 | severo-yeniseyskiy\n",
      "Processing Record 10 of set 4 | xai-xai\n",
      "Processing Record 11 of set 4 | changtu\n",
      "Processing Record 12 of set 4 | maldonado\n",
      "Processing Record 13 of set 4 | zhigansk\n",
      "Processing Record 14 of set 4 | nanortalik\n",
      "Processing Record 15 of set 4 | nantucket\n",
      "Processing Record 16 of set 4 | mildura\n",
      "Processing Record 17 of set 4 | faanui\n",
      "Processing Record 18 of set 4 | okha\n",
      "Processing Record 19 of set 4 | te anau\n",
      "Processing Record 20 of set 4 | parana\n",
      "Processing Record 21 of set 4 | biltine\n",
      "Processing Record 22 of set 4 | caravelas\n",
      "Processing Record 23 of set 4 | itaituba\n",
      "Processing Record 24 of set 4 | severo-kurilsk\n",
      "Processing Record 25 of set 4 | el paujil\n",
      "Processing Record 26 of set 4 | bogorodskoye\n",
      "Processing Record 27 of set 4 | kiama\n",
      "Processing Record 28 of set 4 | pacifica\n"
     ]
    },
    {
     "name": "stdout",
     "output_type": "stream",
     "text": [
      "Processing Record 29 of set 4 | alekseyevka\n",
      "Processing Record 30 of set 4 | petropavlovsk-kamchatskiy\n",
      "Processing Record 31 of set 4 | inuvik\n",
      "Processing Record 32 of set 4 | kaitangata\n",
      "Processing Record 33 of set 4 | marzuq\n",
      "Processing Record 34 of set 4 | coruripe\n",
      "Processing Record 35 of set 4 | anadyr\n",
      "Processing Record 36 of set 4 | vanderhoof\n",
      "Processing Record 37 of set 4 | sechura\n",
      "Processing Record 38 of set 4 | north platte\n",
      "Processing Record 39 of set 4 | torbay\n",
      "Processing Record 40 of set 4 | abaza\n",
      "Processing Record 41 of set 4 | narsaq\n",
      "Processing Record 42 of set 4 | upernavik\n",
      "Processing Record 43 of set 4 | aksu\n",
      "Processing Record 44 of set 4 | tuktoyaktuk\n",
      "Processing Record 45 of set 4 | cairns\n",
      "Processing Record 46 of set 4 | at-bashi\n",
      "Processing Record 47 of set 4 | muhos\n",
      "Processing Record 48 of set 4 | geraldton\n",
      "Processing Record 49 of set 4 | victoria\n",
      "Processing Record 50 of set 4 | aktas\n",
      "Processing Record 1 of set 5 | hosakote\n",
      "Processing Record 2 of set 5 | monrovia\n",
      "Processing Record 3 of set 5 | nikolskoye\n",
      "Processing Record 4 of set 5 | rio gallegos\n",
      "Processing Record 5 of set 5 | mar del plata\n",
      "Processing Record 6 of set 5 | muros\n",
      "Processing Record 7 of set 5 | aklavik\n",
      "Processing Record 8 of set 5 | gueugnon\n",
      "Processing Record 9 of set 5 | kruisfontein\n",
      "Processing Record 10 of set 5 | shemysheyka\n",
      "City 'marcona' not found. Skipping...\n",
      "Processing Record 11 of set 5 | konevo\n",
      "City 'doctor pedro p. pena' not found. Skipping...\n",
      "Processing Record 12 of set 5 | sakakah\n",
      "Processing Record 13 of set 5 | mumford\n",
      "Processing Record 14 of set 5 | ladario\n",
      "Processing Record 15 of set 5 | magdagachi\n",
      "Processing Record 16 of set 5 | irtyshskiy\n",
      "Processing Record 17 of set 5 | kondinskoye\n",
      "City 'ust-kamchatsk' not found. Skipping...\n",
      "Processing Record 18 of set 5 | tuxpan\n",
      "Processing Record 19 of set 5 | penzance\n",
      "Processing Record 20 of set 5 | asau\n",
      "Processing Record 21 of set 5 | doka\n",
      "Processing Record 22 of set 5 | bowen\n",
      "Processing Record 23 of set 5 | flinders\n",
      "Processing Record 24 of set 5 | pochutla\n",
      "Processing Record 25 of set 5 | ormara\n",
      "Processing Record 26 of set 5 | ponta delgada\n",
      "Processing Record 27 of set 5 | sobolevo\n",
      "Processing Record 28 of set 5 | hailar\n",
      "Processing Record 29 of set 5 | norman wells\n",
      "Processing Record 30 of set 5 | byron bay\n",
      "City 'nam tha' not found. Skipping...\n",
      "Processing Record 31 of set 5 | diffa\n",
      "Processing Record 32 of set 5 | saint-augustin\n",
      "Processing Record 33 of set 5 | moerai\n",
      "Processing Record 34 of set 5 | tasiilaq\n",
      "Processing Record 35 of set 5 | sioux lookout\n",
      "City 'lolua' not found. Skipping...\n",
      "Processing Record 36 of set 5 | nabire\n",
      "Processing Record 37 of set 5 | zaykovo\n",
      "Processing Record 38 of set 5 | portland\n",
      "Processing Record 39 of set 5 | candelaria\n",
      "Processing Record 40 of set 5 | great falls\n",
      "City 'karauzyak' not found. Skipping...\n",
      "Processing Record 41 of set 5 | eirunepe\n",
      "City 'tumannyy' not found. Skipping...\n",
      "City 'attawapiskat' not found. Skipping...\n",
      "Processing Record 42 of set 5 | pedernales\n",
      "Processing Record 43 of set 5 | touros\n",
      "Processing Record 44 of set 5 | amahai\n",
      "Processing Record 45 of set 5 | prince rupert\n",
      "Processing Record 46 of set 5 | ixtapa\n",
      "Processing Record 47 of set 5 | beringovskiy\n",
      "Processing Record 48 of set 5 | nago\n",
      "Processing Record 49 of set 5 | san patricio\n",
      "City 'mys shmidta' not found. Skipping...\n",
      "Processing Record 50 of set 5 | haikou\n",
      "Processing Record 1 of set 6 | necochea\n",
      "Processing Record 2 of set 6 | klaksvik\n",
      "Processing Record 3 of set 6 | warrnambool\n",
      "Processing Record 4 of set 6 | mezhova\n",
      "Processing Record 5 of set 6 | taua\n",
      "Processing Record 6 of set 6 | evinayong\n",
      "Processing Record 7 of set 6 | chuy\n",
      "Processing Record 8 of set 6 | waddan\n",
      "City 'kuche' not found. Skipping...\n",
      "Processing Record 9 of set 6 | the valley\n",
      "City 'tasbuget' not found. Skipping...\n",
      "Processing Record 10 of set 6 | iranshahr\n",
      "Processing Record 11 of set 6 | alanya\n",
      "Processing Record 12 of set 6 | evensk\n",
      "Processing Record 13 of set 6 | xichang\n",
      "Processing Record 14 of set 6 | leningradskiy\n",
      "Processing Record 15 of set 6 | nome\n",
      "Processing Record 16 of set 6 | faya\n",
      "Processing Record 17 of set 6 | xique-xique\n",
      "Processing Record 18 of set 6 | takoradi\n",
      "Processing Record 19 of set 6 | sorong\n",
      "Processing Record 20 of set 6 | tampa\n",
      "Processing Record 21 of set 6 | catole do rocha\n",
      "Processing Record 22 of set 6 | guatire\n",
      "Processing Record 23 of set 6 | ploemeur\n",
      "Processing Record 24 of set 6 | kamenka\n",
      "Processing Record 25 of set 6 | palmer\n",
      "Processing Record 26 of set 6 | solano\n",
      "Processing Record 27 of set 6 | haines junction\n",
      "Processing Record 28 of set 6 | nurota\n",
      "Processing Record 29 of set 6 | garden city\n",
      "Processing Record 30 of set 6 | mogadishu\n",
      "Processing Record 31 of set 6 | singaraja\n",
      "Processing Record 32 of set 6 | gimli\n",
      "Processing Record 33 of set 6 | varlamovo\n",
      "Processing Record 34 of set 6 | fortuna\n",
      "Processing Record 35 of set 6 | roura\n",
      "Processing Record 36 of set 6 | stephenville\n",
      "Processing Record 37 of set 6 | khasan\n",
      "Processing Record 38 of set 6 | tual\n",
      "Processing Record 39 of set 6 | churapcha\n",
      "Processing Record 40 of set 6 | eureka\n",
      "City 'guicheng' not found. Skipping...\n",
      "Processing Record 41 of set 6 | bilibino\n",
      "Processing Record 42 of set 6 | jurmala\n",
      "City 'karkaralinsk' not found. Skipping...\n",
      "Processing Record 43 of set 6 | san jose\n",
      "Processing Record 44 of set 6 | manggar\n",
      "City 'bolungarvik' not found. Skipping...\n",
      "Processing Record 45 of set 6 | marystown\n",
      "Processing Record 46 of set 6 | esperance\n",
      "Processing Record 47 of set 6 | pevek\n",
      "Processing Record 48 of set 6 | verkhnevilyuysk\n",
      "Processing Record 49 of set 6 | cherskiy\n",
      "Processing Record 50 of set 6 | port-gentil\n",
      "Processing Record 1 of set 7 | sahuaripa\n",
      "Processing Record 2 of set 7 | klyuchi\n",
      "Processing Record 3 of set 7 | digha\n",
      "Processing Record 4 of set 7 | kavaratti\n",
      "Processing Record 5 of set 7 | beaverlodge\n",
      "Processing Record 6 of set 7 | soldotna\n",
      "Processing Record 7 of set 7 | noumea\n",
      "Processing Record 8 of set 7 | talaya\n",
      "Processing Record 9 of set 7 | khakhea\n",
      "Processing Record 10 of set 7 | miri\n",
      "Processing Record 11 of set 7 | chernushka\n",
      "Processing Record 12 of set 7 | nhulunbuy\n",
      "Processing Record 13 of set 7 | ust-kuyga\n",
      "Processing Record 14 of set 7 | guiren\n",
      "Processing Record 15 of set 7 | lodingen\n",
      "Processing Record 16 of set 7 | imuris\n",
      "City 'kamenskoye' not found. Skipping...\n",
      "Processing Record 17 of set 7 | east london\n",
      "Processing Record 18 of set 7 | danielskuil\n",
      "Processing Record 19 of set 7 | sinjai\n",
      "Processing Record 20 of set 7 | hithadhoo\n",
      "Processing Record 21 of set 7 | sanchez\n",
      "Processing Record 22 of set 7 | pacific grove\n",
      "Processing Record 23 of set 7 | rapid valley\n",
      "Processing Record 24 of set 7 | berlevag\n",
      "Processing Record 25 of set 7 | lajas\n",
      "Processing Record 26 of set 7 | koumra\n",
      "Processing Record 27 of set 7 | san ramon\n",
      "Processing Record 28 of set 7 | korla\n",
      "Processing Record 29 of set 7 | wajir\n",
      "Processing Record 30 of set 7 | houma\n",
      "Processing Record 31 of set 7 | livani\n",
      "Processing Record 32 of set 7 | la union\n",
      "Processing Record 33 of set 7 | hobyo\n",
      "Processing Record 34 of set 7 | vung tau\n",
      "Processing Record 35 of set 7 | kirakira\n",
      "Processing Record 36 of set 7 | morros\n",
      "Processing Record 37 of set 7 | nouadhibou\n",
      "Processing Record 38 of set 7 | isangel\n",
      "Processing Record 39 of set 7 | hualmay\n",
      "Processing Record 40 of set 7 | changde\n",
      "Processing Record 41 of set 7 | gull lake\n",
      "Processing Record 42 of set 7 | saint-leu\n",
      "Processing Record 43 of set 7 | sur\n",
      "Processing Record 44 of set 7 | chulym\n",
      "Processing Record 45 of set 7 | batemans bay\n",
      "City 'saleaula' not found. Skipping...\n",
      "City 'grand centre' not found. Skipping...\n",
      "Processing Record 46 of set 7 | los llanos de aridane\n",
      "Processing Record 47 of set 7 | coahuayana\n",
      "Processing Record 48 of set 7 | lagunas\n",
      "Processing Record 49 of set 7 | ishigaki\n",
      "Processing Record 50 of set 7 | luderitz\n",
      "Processing Record 1 of set 8 | samana\n",
      "City 'aflu' not found. Skipping...\n",
      "City 'warqla' not found. Skipping...\n",
      "Processing Record 2 of set 8 | canutama\n",
      "Processing Record 3 of set 8 | pangnirtung\n",
      "Processing Record 4 of set 8 | saint-pierre\n",
      "Processing Record 5 of set 8 | poyarkovo\n",
      "Processing Record 6 of set 8 | diamantino\n",
      "Processing Record 7 of set 8 | lujan\n",
      "Processing Record 8 of set 8 | benghazi\n",
      "Processing Record 9 of set 8 | springbok\n"
     ]
    },
    {
     "name": "stdout",
     "output_type": "stream",
     "text": [
      "Processing Record 10 of set 8 | milkovo\n",
      "Processing Record 11 of set 8 | coquimbo\n",
      "Processing Record 12 of set 8 | tuatapere\n",
      "Processing Record 13 of set 8 | clarence town\n",
      "Processing Record 14 of set 8 | guajara\n",
      "Processing Record 15 of set 8 | iqaluit\n",
      "Processing Record 16 of set 8 | namibe\n",
      "Processing Record 17 of set 8 | hamilton\n",
      "Processing Record 18 of set 8 | brae\n",
      "Processing Record 19 of set 8 | khani\n",
      "Processing Record 20 of set 8 | lulea\n",
      "Processing Record 21 of set 8 | montepuez\n",
      "Processing Record 22 of set 8 | fairbanks\n",
      "Processing Record 23 of set 8 | san cristobal\n",
      "Processing Record 24 of set 8 | buckeye\n",
      "Processing Record 25 of set 8 | maiduguri\n",
      "Processing Record 26 of set 8 | nizhniy kuranakh\n",
      "Processing Record 27 of set 8 | goundam\n",
      "Processing Record 28 of set 8 | buala\n",
      "Processing Record 29 of set 8 | lasa\n",
      "Processing Record 30 of set 8 | yulara\n",
      "Processing Record 31 of set 8 | saldanha\n",
      "Processing Record 32 of set 8 | yumen\n",
      "Processing Record 33 of set 8 | jiamusi\n",
      "Processing Record 34 of set 8 | mezen\n",
      "Processing Record 35 of set 8 | mandal\n",
      "Processing Record 36 of set 8 | sistranda\n",
      "Processing Record 37 of set 8 | hayesville\n",
      "City 'phrai bung' not found. Skipping...\n",
      "Processing Record 38 of set 8 | huanren\n",
      "Processing Record 39 of set 8 | sinnamary\n",
      "Processing Record 40 of set 8 | vanavara\n",
      "Processing Record 41 of set 8 | grants\n",
      "Processing Record 42 of set 8 | kolondieba\n",
      "Processing Record 43 of set 8 | shache\n",
      "Processing Record 44 of set 8 | goderich\n",
      "Processing Record 45 of set 8 | naantali\n",
      "Processing Record 46 of set 8 | ust-tsilma\n",
      "Processing Record 47 of set 8 | roebourne\n",
      "Processing Record 48 of set 8 | cadillac\n",
      "Processing Record 49 of set 8 | killybegs\n",
      "Processing Record 50 of set 8 | san nicolas guadalupe\n",
      "Processing Record 1 of set 9 | olafsvik\n",
      "Processing Record 2 of set 9 | paro\n",
      "Processing Record 3 of set 9 | tommot\n",
      "Processing Record 4 of set 9 | tenenkou\n",
      "City 'louisbourg' not found. Skipping...\n",
      "Processing Record 5 of set 9 | tocopilla\n",
      "Processing Record 6 of set 9 | ecuandureo\n",
      "Processing Record 7 of set 9 | tautira\n",
      "Processing Record 8 of set 9 | soyo\n",
      "Processing Record 9 of set 9 | ingham\n",
      "Processing Record 10 of set 9 | luganville\n",
      "Processing Record 11 of set 9 | adzope\n",
      "Processing Record 12 of set 9 | pisco\n",
      "Processing Record 13 of set 9 | college\n",
      "Processing Record 14 of set 9 | torbat-e jam\n",
      "Processing Record 15 of set 9 | vila velha\n",
      "Processing Record 16 of set 9 | vestmannaeyjar\n",
      "Processing Record 17 of set 9 | urucui\n",
      "City 'yanan' not found. Skipping...\n",
      "Processing Record 18 of set 9 | mamallapuram\n",
      "Processing Record 19 of set 9 | lata\n",
      "Processing Record 20 of set 9 | gerash\n",
      "Processing Record 21 of set 9 | grand-lahou\n",
      "Processing Record 22 of set 9 | lodwar\n",
      "Processing Record 23 of set 9 | biak\n",
      "Processing Record 24 of set 9 | souillac\n",
      "Processing Record 25 of set 9 | cap malheureux\n",
      "Processing Record 26 of set 9 | nioaque\n",
      "Processing Record 27 of set 9 | upata\n",
      "Processing Record 28 of set 9 | lavrentiya\n",
      "Processing Record 29 of set 9 | shimoda\n",
      "Processing Record 30 of set 9 | salalah\n",
      "Processing Record 31 of set 9 | chittaurgarh\n",
      "Processing Record 32 of set 9 | yubari\n",
      "Processing Record 33 of set 9 | wajid\n",
      "Processing Record 34 of set 9 | popondetta\n",
      "Processing Record 35 of set 9 | saint george\n",
      "Processing Record 36 of set 9 | minot\n",
      "Processing Record 37 of set 9 | burnie\n",
      "Processing Record 38 of set 9 | swellendam\n",
      "Processing Record 39 of set 9 | sidi ali\n",
      "Processing Record 40 of set 9 | labuhan\n",
      "Processing Record 41 of set 9 | bayanday\n",
      "Processing Record 42 of set 9 | mirnyy\n",
      "Processing Record 43 of set 9 | kardailovo\n",
      "Processing Record 44 of set 9 | phibun mangsahan\n",
      "Processing Record 45 of set 9 | roald\n",
      "Processing Record 46 of set 9 | arlit\n",
      "Processing Record 47 of set 9 | port hardy\n",
      "Processing Record 48 of set 9 | qasigiannguit\n",
      "Processing Record 49 of set 9 | pierre\n",
      "Processing Record 50 of set 9 | chekhov\n",
      "City 'addis zemen' not found. Skipping...\n",
      "Processing Record 1 of set 10 | santa marta\n",
      "Processing Record 2 of set 10 | shitkino\n",
      "Processing Record 3 of set 10 | omsukchan\n",
      "Processing Record 4 of set 10 | lorengau\n",
      "Processing Record 5 of set 10 | galveston\n",
      "Processing Record 6 of set 10 | san policarpo\n",
      "Processing Record 7 of set 10 | hinton\n",
      "Processing Record 8 of set 10 | cotonou\n",
      "Processing Record 9 of set 10 | hamamatsu\n",
      "Processing Record 10 of set 10 | sengiley\n",
      "Processing Record 11 of set 10 | lucea\n",
      "Processing Record 12 of set 10 | whyalla\n",
      "Processing Record 13 of set 10 | qandala\n",
      "Processing Record 14 of set 10 | skibbereen\n",
      "Processing Record 15 of set 10 | douentza\n",
      "City 'kollumerland' not found. Skipping...\n",
      "Processing Record 16 of set 10 | margate\n",
      "Processing Record 17 of set 10 | coihaique\n",
      "Processing Record 18 of set 10 | olinda\n",
      "Processing Record 19 of set 10 | kahului\n",
      "Processing Record 20 of set 10 | puerto madryn\n",
      "Processing Record 21 of set 10 | raiganj\n",
      "Processing Record 22 of set 10 | meridian\n",
      "Processing Record 23 of set 10 | san fernando\n",
      "Processing Record 24 of set 10 | gore\n",
      "Processing Record 25 of set 10 | northam\n",
      "Processing Record 26 of set 10 | chengde\n",
      "Processing Record 27 of set 10 | aksarka\n",
      "Processing Record 28 of set 10 | salta\n",
      "Processing Record 29 of set 10 | bluefields\n",
      "Processing Record 30 of set 10 | nkhata bay\n",
      "Processing Record 31 of set 10 | cabo san lucas\n",
      "Processing Record 32 of set 10 | fevik\n",
      "Processing Record 33 of set 10 | san quintin\n",
      "Processing Record 34 of set 10 | talcahuano\n",
      "Processing Record 35 of set 10 | mayo\n",
      "Processing Record 36 of set 10 | santa maria del oro\n",
      "Processing Record 37 of set 10 | half moon bay\n",
      "Processing Record 38 of set 10 | taraza\n",
      "Processing Record 39 of set 10 | ligayan\n",
      "Processing Record 40 of set 10 | malanje\n",
      "Processing Record 41 of set 10 | tucker\n",
      "Processing Record 42 of set 10 | bella vista\n",
      "Processing Record 43 of set 10 | jaciara\n",
      "City 'ksenyevka' not found. Skipping...\n",
      "Processing Record 44 of set 10 | khorramabad\n",
      "Processing Record 45 of set 10 | ketchikan\n",
      "Processing Record 46 of set 10 | inhambane\n",
      "Processing Record 47 of set 10 | morrope\n",
      "Processing Record 48 of set 10 | guarapari\n",
      "Processing Record 49 of set 10 | arraial do cabo\n",
      "Processing Record 50 of set 10 | alice springs\n",
      "Processing Record 1 of set 11 | aprelevka\n",
      "Processing Record 2 of set 11 | matara\n",
      "City 'sedelnikovo' not found. Skipping...\n",
      "Processing Record 3 of set 11 | cayenne\n",
      "City 'bargal' not found. Skipping...\n",
      "Processing Record 4 of set 11 | egvekinot\n",
      "Processing Record 5 of set 11 | hirara\n",
      "Processing Record 6 of set 11 | padang\n",
      "Processing Record 7 of set 11 | minab\n",
      "Processing Record 8 of set 11 | bodmin\n",
      "Processing Record 9 of set 11 | taloqan\n",
      "Processing Record 10 of set 11 | bacolod\n",
      "Processing Record 11 of set 11 | quatre cocos\n",
      "Processing Record 12 of set 11 | uige\n",
      "Processing Record 13 of set 11 | mareeba\n",
      "Processing Record 14 of set 11 | stornoway\n",
      "Processing Record 15 of set 11 | quesnel\n",
      "Processing Record 16 of set 11 | techiman\n",
      "Processing Record 17 of set 11 | breytovo\n",
      "Processing Record 18 of set 11 | tabou\n",
      "Processing Record 19 of set 11 | ballyshannon\n",
      "City 'karamay' not found. Skipping...\n",
      "City 'temaraia' not found. Skipping...\n",
      "Processing Record 20 of set 11 | jaguarao\n",
      "City 'halalo' not found. Skipping...\n",
      "Processing Record 21 of set 11 | rio grande\n",
      "Processing Record 22 of set 11 | beloha\n",
      "Processing Record 23 of set 11 | havelock\n",
      "Processing Record 24 of set 11 | davidesti\n",
      "Processing Record 25 of set 11 | muttupet\n",
      "Processing Record 26 of set 11 | vondrozo\n",
      "Processing Record 27 of set 11 | bucerias\n",
      "Processing Record 28 of set 11 | taoudenni\n",
      "City 'la uribe' not found. Skipping...\n",
      "Processing Record 29 of set 11 | ouadda\n",
      "Processing Record 30 of set 11 | cordoba\n",
      "Processing Record 31 of set 11 | lakes entrance\n",
      "Processing Record 32 of set 11 | poum\n",
      "Processing Record 33 of set 11 | impfondo\n",
      "Processing Record 34 of set 11 | mackenzie\n",
      "Processing Record 35 of set 11 | kanniyakumari\n",
      "Processing Record 36 of set 11 | samarai\n",
      "Processing Record 37 of set 11 | ilorin\n",
      "Processing Record 38 of set 11 | sao miguel do tapuio\n",
      "Processing Record 39 of set 11 | marsh harbour\n",
      "Processing Record 40 of set 11 | mende\n",
      "Processing Record 41 of set 11 | swan hill\n",
      "Processing Record 42 of set 11 | bataipora\n",
      "Processing Record 43 of set 11 | show low\n",
      "Processing Record 44 of set 11 | jutai\n",
      "Processing Record 45 of set 11 | atar\n"
     ]
    },
    {
     "name": "stdout",
     "output_type": "stream",
     "text": [
      "Processing Record 46 of set 11 | saint anthony\n",
      "Processing Record 47 of set 11 | calatayud\n",
      "Processing Record 48 of set 11 | orodara\n",
      "Processing Record 49 of set 11 | gunjur\n",
      "Processing Record 50 of set 11 | busayra\n",
      "Processing Record 1 of set 12 | hondo\n",
      "Processing Record 2 of set 12 | jalu\n",
      "Processing Record 3 of set 12 | charlestown\n",
      "Processing Record 4 of set 12 | raudeberg\n",
      "Processing Record 5 of set 12 | portree\n",
      "City 'nguiu' not found. Skipping...\n",
      "Processing Record 6 of set 12 | seminole\n",
      "Processing Record 7 of set 12 | beyneu\n",
      "Processing Record 8 of set 12 | sobrance\n",
      "Processing Record 9 of set 12 | sungairaya\n",
      "Processing Record 10 of set 12 | katobu\n",
      "Processing Record 11 of set 12 | victor harbor\n",
      "Processing Record 12 of set 12 | alcaudete\n",
      "Processing Record 13 of set 12 | puerto barrios\n",
      "Processing Record 14 of set 12 | yafran\n",
      "Processing Record 15 of set 12 | codrington\n",
      "Processing Record 16 of set 12 | emerald\n",
      "Processing Record 17 of set 12 | sitarganj\n",
      "Processing Record 18 of set 12 | hami\n",
      "City 'ruatoria' not found. Skipping...\n",
      "Processing Record 19 of set 12 | deputatskiy\n",
      "Processing Record 20 of set 12 | zeya\n",
      "Processing Record 21 of set 12 | sompeta\n",
      "Processing Record 22 of set 12 | jimani\n",
      "Processing Record 23 of set 12 | kargopol\n",
      "Processing Record 24 of set 12 | abu samrah\n",
      "Processing Record 25 of set 12 | nacala\n",
      "Processing Record 26 of set 12 | ciudad valles\n",
      "Processing Record 27 of set 12 | ilebo\n",
      "Processing Record 28 of set 12 | anchorage\n",
      "Processing Record 29 of set 12 | humaita\n",
      "Processing Record 30 of set 12 | carauari\n",
      "City 'vaitupu' not found. Skipping...\n",
      "Processing Record 31 of set 12 | dahod\n",
      "Processing Record 32 of set 12 | fujin\n",
      "Processing Record 33 of set 12 | acajutla\n",
      "Processing Record 34 of set 12 | boa vista\n",
      "Processing Record 35 of set 12 | hisor\n",
      "Processing Record 36 of set 12 | tirumullaivasal\n",
      "Processing Record 37 of set 12 | kashi\n",
      "Processing Record 38 of set 12 | tall kayf\n",
      "Processing Record 39 of set 12 | opuwo\n",
      "Processing Record 40 of set 12 | sisimiut\n",
      "Processing Record 41 of set 12 | irara\n",
      "Processing Record 42 of set 12 | batamshinskiy\n",
      "Processing Record 43 of set 12 | natchitoches\n",
      "Processing Record 44 of set 12 | chenghai\n",
      "Processing Record 45 of set 12 | whittlesea\n",
      "-----------------------------\n",
      "Data Retrieval Complete      \n",
      "-----------------------------\n"
     ]
    }
   ],
   "source": [
    "#URL's\n",
    "base_url= f\"http://api.openweathermap.org/data/2.5/weather?\"\n",
    "units= \"imperial\"\n",
    "query_url= f\"{base_url}&appid={weather_api_key}&units={units}&q=\"\n",
    "print(query_url)\n",
    "# Lists\n",
    "city_name=[]\n",
    "city_lats=[]\n",
    "city_lngs=[]\n",
    "city_maxtemp=[]\n",
    "city_humidity=[]\n",
    "city_cloudiness=[]\n",
    "city_wind=[]\n",
    "city_country=[]\n",
    "city_date=[]\n",
    "\n",
    "item = 1\n",
    "batch = 1\n",
    "\n",
    "\n",
    "#Loop through all the cities in our list\n",
    "for city in cities:\n",
    "    \n",
    "   \n",
    " # Run an API request for each of the cities\n",
    "    try:\n",
    "        city_data=requests.get(f\"{query_url}{city}\").json()\n",
    "        city_name.append(city_data[\"name\"])\n",
    "        city_country.append(city_data[\"sys\"][\"country\"])\n",
    "        city_lats.append(city_data[\"coord\"][\"lat\"])\n",
    "        city_lngs.append(city_data[\"coord\"][\"lon\"])\n",
    "        city_maxtemp.append(city_data[\"main\"][\"temp_max\"])    \n",
    "        city_humidity.append(city_data[\"main\"][\"humidity\"])\n",
    "        city_cloudiness.append(city_data[\"clouds\"][\"all\"])\n",
    "        city_wind.append(city_data[\"wind\"][\"speed\"])\n",
    "        city_date.append(city_data[\"dt\"])\n",
    "        print(f\"Processing Record {item} of set {batch} | {city}\")\n",
    "        item+= 1\n",
    "        \n",
    "        \n",
    "        if item>50:\n",
    "            batch+=1\n",
    "            item=1\n",
    "            time.sleep(1.01)\n",
    "            \n",
    "  \n",
    "    except:\n",
    "        print(f\"City '{city}' not found. Skipping...\")\n",
    "        pass\n",
    "              \n",
    "# Indicate that Data Loading is complete \n",
    "print(\"-----------------------------\")\n",
    "print(\"Data Retrieval Complete      \")\n",
    "print(\"-----------------------------\")"
   ]
  },
  {
   "cell_type": "markdown",
   "metadata": {},
   "source": [
    "### Convert Raw Data to DataFrame\n",
    "* Export the city data into a .csv.\n",
    "* Display the DataFrame"
   ]
  },
  {
   "cell_type": "code",
   "execution_count": 4,
   "metadata": {},
   "outputs": [
    {
     "data": {
      "text/html": [
       "<div>\n",
       "<style scoped>\n",
       "    .dataframe tbody tr th:only-of-type {\n",
       "        vertical-align: middle;\n",
       "    }\n",
       "\n",
       "    .dataframe tbody tr th {\n",
       "        vertical-align: top;\n",
       "    }\n",
       "\n",
       "    .dataframe thead th {\n",
       "        text-align: right;\n",
       "    }\n",
       "</style>\n",
       "<table border=\"1\" class=\"dataframe\">\n",
       "  <thead>\n",
       "    <tr style=\"text-align: right;\">\n",
       "      <th></th>\n",
       "      <th>City</th>\n",
       "      <th>Lat</th>\n",
       "      <th>Lng</th>\n",
       "      <th>Max Temp (F)</th>\n",
       "      <th>Humidity(%)</th>\n",
       "      <th>Cloudiness(%)</th>\n",
       "      <th>Wind Speed(MPH)</th>\n",
       "      <th>Country</th>\n",
       "      <th>Data</th>\n",
       "    </tr>\n",
       "  </thead>\n",
       "  <tbody>\n",
       "    <tr>\n",
       "      <th>0</th>\n",
       "      <td>Barrow</td>\n",
       "      <td>71.2906</td>\n",
       "      <td>-156.7887</td>\n",
       "      <td>1.40</td>\n",
       "      <td>78</td>\n",
       "      <td>90</td>\n",
       "      <td>23.02</td>\n",
       "      <td>US</td>\n",
       "      <td>1610465022</td>\n",
       "    </tr>\n",
       "    <tr>\n",
       "      <th>1</th>\n",
       "      <td>Phalombe</td>\n",
       "      <td>-15.8064</td>\n",
       "      <td>35.6507</td>\n",
       "      <td>76.24</td>\n",
       "      <td>88</td>\n",
       "      <td>100</td>\n",
       "      <td>3.56</td>\n",
       "      <td>MW</td>\n",
       "      <td>1610465022</td>\n",
       "    </tr>\n",
       "    <tr>\n",
       "      <th>2</th>\n",
       "      <td>Thinadhoo</td>\n",
       "      <td>0.5333</td>\n",
       "      <td>72.9333</td>\n",
       "      <td>82.02</td>\n",
       "      <td>78</td>\n",
       "      <td>100</td>\n",
       "      <td>18.01</td>\n",
       "      <td>MV</td>\n",
       "      <td>1610465022</td>\n",
       "    </tr>\n",
       "    <tr>\n",
       "      <th>3</th>\n",
       "      <td>Kapaa</td>\n",
       "      <td>22.0752</td>\n",
       "      <td>-159.3190</td>\n",
       "      <td>66.20</td>\n",
       "      <td>94</td>\n",
       "      <td>20</td>\n",
       "      <td>8.05</td>\n",
       "      <td>US</td>\n",
       "      <td>1610465022</td>\n",
       "    </tr>\n",
       "    <tr>\n",
       "      <th>4</th>\n",
       "      <td>Albany</td>\n",
       "      <td>42.6001</td>\n",
       "      <td>-73.9662</td>\n",
       "      <td>34.00</td>\n",
       "      <td>66</td>\n",
       "      <td>100</td>\n",
       "      <td>6.55</td>\n",
       "      <td>US</td>\n",
       "      <td>1610465023</td>\n",
       "    </tr>\n",
       "    <tr>\n",
       "      <th>...</th>\n",
       "      <td>...</td>\n",
       "      <td>...</td>\n",
       "      <td>...</td>\n",
       "      <td>...</td>\n",
       "      <td>...</td>\n",
       "      <td>...</td>\n",
       "      <td>...</td>\n",
       "      <td>...</td>\n",
       "      <td>...</td>\n",
       "    </tr>\n",
       "    <tr>\n",
       "      <th>590</th>\n",
       "      <td>Irará</td>\n",
       "      <td>-12.0500</td>\n",
       "      <td>-38.7667</td>\n",
       "      <td>84.33</td>\n",
       "      <td>60</td>\n",
       "      <td>66</td>\n",
       "      <td>8.86</td>\n",
       "      <td>BR</td>\n",
       "      <td>1610465144</td>\n",
       "    </tr>\n",
       "    <tr>\n",
       "      <th>591</th>\n",
       "      <td>Batamshinskiy</td>\n",
       "      <td>50.5594</td>\n",
       "      <td>58.2747</td>\n",
       "      <td>-9.40</td>\n",
       "      <td>70</td>\n",
       "      <td>0</td>\n",
       "      <td>4.47</td>\n",
       "      <td>KZ</td>\n",
       "      <td>1610465144</td>\n",
       "    </tr>\n",
       "    <tr>\n",
       "      <th>592</th>\n",
       "      <td>Natchitoches</td>\n",
       "      <td>31.7668</td>\n",
       "      <td>-93.1335</td>\n",
       "      <td>35.60</td>\n",
       "      <td>93</td>\n",
       "      <td>1</td>\n",
       "      <td>2.13</td>\n",
       "      <td>US</td>\n",
       "      <td>1610465145</td>\n",
       "    </tr>\n",
       "    <tr>\n",
       "      <th>593</th>\n",
       "      <td>Chenghai</td>\n",
       "      <td>23.4632</td>\n",
       "      <td>116.7680</td>\n",
       "      <td>46.40</td>\n",
       "      <td>61</td>\n",
       "      <td>0</td>\n",
       "      <td>4.47</td>\n",
       "      <td>CN</td>\n",
       "      <td>1610465145</td>\n",
       "    </tr>\n",
       "    <tr>\n",
       "      <th>594</th>\n",
       "      <td>Whittlesea</td>\n",
       "      <td>-32.1759</td>\n",
       "      <td>26.8244</td>\n",
       "      <td>79.45</td>\n",
       "      <td>54</td>\n",
       "      <td>49</td>\n",
       "      <td>13.04</td>\n",
       "      <td>ZA</td>\n",
       "      <td>1610465145</td>\n",
       "    </tr>\n",
       "  </tbody>\n",
       "</table>\n",
       "<p>595 rows × 9 columns</p>\n",
       "</div>"
      ],
      "text/plain": [
       "              City      Lat       Lng  Max Temp (F)  Humidity(%)  \\\n",
       "0           Barrow  71.2906 -156.7887          1.40           78   \n",
       "1         Phalombe -15.8064   35.6507         76.24           88   \n",
       "2        Thinadhoo   0.5333   72.9333         82.02           78   \n",
       "3            Kapaa  22.0752 -159.3190         66.20           94   \n",
       "4           Albany  42.6001  -73.9662         34.00           66   \n",
       "..             ...      ...       ...           ...          ...   \n",
       "590          Irará -12.0500  -38.7667         84.33           60   \n",
       "591  Batamshinskiy  50.5594   58.2747         -9.40           70   \n",
       "592   Natchitoches  31.7668  -93.1335         35.60           93   \n",
       "593       Chenghai  23.4632  116.7680         46.40           61   \n",
       "594     Whittlesea -32.1759   26.8244         79.45           54   \n",
       "\n",
       "     Cloudiness(%)  Wind Speed(MPH) Country        Data  \n",
       "0               90            23.02      US  1610465022  \n",
       "1              100             3.56      MW  1610465022  \n",
       "2              100            18.01      MV  1610465022  \n",
       "3               20             8.05      US  1610465022  \n",
       "4              100             6.55      US  1610465023  \n",
       "..             ...              ...     ...         ...  \n",
       "590             66             8.86      BR  1610465144  \n",
       "591              0             4.47      KZ  1610465144  \n",
       "592              1             2.13      US  1610465145  \n",
       "593              0             4.47      CN  1610465145  \n",
       "594             49            13.04      ZA  1610465145  \n",
       "\n",
       "[595 rows x 9 columns]"
      ]
     },
     "execution_count": 4,
     "metadata": {},
     "output_type": "execute_result"
    }
   ],
   "source": [
    "city_df=pd.DataFrame({\"City\": city_name,\n",
    "                     \"Lat\": city_lats,\n",
    "                     \"Lng\": city_lngs,\n",
    "                     \"Max Temp (F)\": city_maxtemp,\n",
    "                     \"Humidity(%)\": city_humidity,\n",
    "                     \"Cloudiness(%)\": city_cloudiness,\n",
    "                     \"Wind Speed(MPH)\": city_wind,\n",
    "                     \"Country\": city_country,\n",
    "                     \"Data\": city_date})\n",
    "city_df"
   ]
  },
  {
   "cell_type": "code",
   "execution_count": 5,
   "metadata": {},
   "outputs": [],
   "source": [
    "city_df.to_csv(output_data_file)"
   ]
  },
  {
   "cell_type": "markdown",
   "metadata": {},
   "source": [
    "## Inspect the data and remove the cities where the humidity > 100%.\n",
    "----\n",
    "Skip this step if there are no cities that have humidity > 100%. "
   ]
  },
  {
   "cell_type": "code",
   "execution_count": null,
   "metadata": {},
   "outputs": [],
   "source": [
    "#There are no cities with a humidity above 100%"
   ]
  },
  {
   "cell_type": "markdown",
   "metadata": {},
   "source": [
    "## Plotting the Data\n",
    "* Use proper labeling of the plots using plot titles (including date of analysis) and axes labels.\n",
    "* Save the plotted figures as .pngs."
   ]
  },
  {
   "cell_type": "markdown",
   "metadata": {},
   "source": [
    "## Latitude vs. Temperature Plot"
   ]
  },
  {
   "cell_type": "code",
   "execution_count": 6,
   "metadata": {
    "scrolled": true
   },
   "outputs": [
    {
     "data": {
      "image/png": "[encoded data removed]",
      "text/plain": [
       "<Figure size 432x288 with 1 Axes>"
      ]
     },
     "metadata": {
      "needs_background": "light"
     },
     "output_type": "display_data"
    }
   ],
   "source": [
    "#Build scatterplot for Lat vs Max Temp\n",
    "plt.scatter(city_df[\"Lat\"], city_df[\"Max Temp (F)\"], marker=\"o\")\n",
    "\n",
    "#Label scatterplot\n",
    "plt.title(\"Lat vs Max Temperature\")\n",
    "plt.ylabel(\"Max Temerature (F)\")\n",
    "plt.xlabel(\"Latitude\")\n",
    "plt.grid(True)\n",
    "\n",
    "#Save scatterplot\n",
    "plt.savefig(\"Images/Lat vs Max Temp\")\n",
    "\n",
    "plt.show()"
   ]
  },
  {
   "cell_type": "markdown",
   "metadata": {},
   "source": [
    "As we can see from the scatterplot above, the more north the city is in latitude the max temperature starts to go down."
   ]
  },
  {
   "cell_type": "markdown",
   "metadata": {},
   "source": [
    "## Latitude vs. Humidity Plot"
   ]
  },
  {
   "cell_type": "code",
   "execution_count": 7,
   "metadata": {},
   "outputs": [
    {
     "data": {
      "image/png": "[encoded data removed]",
      "text/plain": [
       "<Figure size 432x288 with 1 Axes>"
      ]
     },
     "metadata": {
      "needs_background": "light"
     },
     "output_type": "display_data"
    }
   ],
   "source": [
    "#Build scatterplot for Lat vs Humidity\n",
    "plt.scatter(city_df[\"Lat\"], city_df[\"Humidity(%)\"], marker=\"o\")\n",
    "\n",
    "#Label scatterplot\n",
    "plt.title(\"Lat vs Humidity(%)\")\n",
    "plt.ylabel(\"Humidity(%)\")\n",
    "plt.xlabel(\"Latitude\")\n",
    "plt.grid(True)\n",
    "\n",
    "#Save scatterplot\n",
    "plt.savefig(\"Images/Lat vs Humidity(%)\")\n",
    "\n",
    "plt.show()"
   ]
  },
  {
   "cell_type": "markdown",
   "metadata": {},
   "source": [
    "As we can see from the scatterplot above, humidity isnt entirely dependant on latitude. There is a big range of level of humidity for cities between 0 and 20 degrees latitude."
   ]
  },
  {
   "cell_type": "markdown",
   "metadata": {},
   "source": [
    "## Latitude vs. Cloudiness Plot"
   ]
  },
  {
   "cell_type": "code",
   "execution_count": 8,
   "metadata": {},
   "outputs": [
    {
     "data": {
      "image/png": "[encoded data removed]",
      "text/plain": [
       "<Figure size 432x288 with 1 Axes>"
      ]
     },
     "metadata": {
      "needs_background": "light"
     },
     "output_type": "display_data"
    }
   ],
   "source": [
    "#Build scatterplot for Lat vs Cloudiness\n",
    "plt.scatter(city_df[\"Lat\"], city_df[\"Cloudiness(%)\"], marker=\"o\")\n",
    "\n",
    "#Label scatterplot\n",
    "plt.title(\"Lat vs Cloudiness(%)\")\n",
    "plt.ylabel(\"Cloudiness(%)\")\n",
    "plt.xlabel(\"Latitude\")\n",
    "plt.grid(True)\n",
    "\n",
    "#Save scatterplot\n",
    "plt.savefig(\"Images/Lat vs Cloudiness(%)\")\n",
    "\n",
    "plt.show()"
   ]
  },
  {
   "cell_type": "markdown",
   "metadata": {},
   "source": [
    "As we can see from the scatterplot above, like the humidity plot above latitude doesnt really effect the cloudiness of a region as there is a wide range of cloudiness for any given latitude."
   ]
  },
  {
   "cell_type": "markdown",
   "metadata": {},
   "source": [
    "## Latitude vs. Wind Speed Plot"
   ]
  },
  {
   "cell_type": "code",
   "execution_count": 9,
   "metadata": {},
   "outputs": [
    {
     "data": {
      "image/png": "[encoded data removed]",
      "text/plain": [
       "<Figure size 432x288 with 1 Axes>"
      ]
     },
     "metadata": {
      "needs_background": "light"
     },
     "output_type": "display_data"
    }
   ],
   "source": [
    "#Build scatterplot for Lat vs Cloudiness\n",
    "plt.scatter(city_df[\"Lat\"], city_df[\"Wind Speed(MPH)\"], marker=\"o\")\n",
    "\n",
    "#Label scatterplot\n",
    "plt.title(\"Lat vs Wind Speed(MPH)\")\n",
    "plt.ylabel(\"Wind Speed(MPH)\")\n",
    "plt.xlabel(\"Latitude\")\n",
    "plt.grid(True)\n",
    "\n",
    "#Save scatterplot\n",
    "plt.savefig(\"Images/Lat vs Wind Speed(MPH)\")\n",
    "\n",
    "plt.show()"
   ]
  },
  {
   "cell_type": "markdown",
   "metadata": {},
   "source": [
    "## Linear Regression"
   ]
  },
  {
   "cell_type": "code",
   "execution_count": 12,
   "metadata": {},
   "outputs": [
    {
     "data": {
      "text/html": [
       "<div>\n",
       "<style scoped>\n",
       "    .dataframe tbody tr th:only-of-type {\n",
       "        vertical-align: middle;\n",
       "    }\n",
       "\n",
       "    .dataframe tbody tr th {\n",
       "        vertical-align: top;\n",
       "    }\n",
       "\n",
       "    .dataframe thead th {\n",
       "        text-align: right;\n",
       "    }\n",
       "</style>\n",
       "<table border=\"1\" class=\"dataframe\">\n",
       "  <thead>\n",
       "    <tr style=\"text-align: right;\">\n",
       "      <th></th>\n",
       "      <th>City</th>\n",
       "      <th>Lat</th>\n",
       "      <th>Lng</th>\n",
       "      <th>Max Temp (F)</th>\n",
       "      <th>Humidity(%)</th>\n",
       "      <th>Cloudiness(%)</th>\n",
       "      <th>Wind Speed(MPH)</th>\n",
       "      <th>Country</th>\n",
       "      <th>Data</th>\n",
       "    </tr>\n",
       "  </thead>\n",
       "  <tbody>\n",
       "    <tr>\n",
       "      <th>1</th>\n",
       "      <td>Phalombe</td>\n",
       "      <td>-15.8064</td>\n",
       "      <td>35.6507</td>\n",
       "      <td>76.24</td>\n",
       "      <td>88</td>\n",
       "      <td>100</td>\n",
       "      <td>3.56</td>\n",
       "      <td>MW</td>\n",
       "      <td>1610465022</td>\n",
       "    </tr>\n",
       "    <tr>\n",
       "      <th>6</th>\n",
       "      <td>Avarua</td>\n",
       "      <td>-21.2078</td>\n",
       "      <td>-159.7750</td>\n",
       "      <td>78.80</td>\n",
       "      <td>78</td>\n",
       "      <td>61</td>\n",
       "      <td>8.05</td>\n",
       "      <td>CK</td>\n",
       "      <td>1610465023</td>\n",
       "    </tr>\n",
       "    <tr>\n",
       "      <th>9</th>\n",
       "      <td>Ushuaia</td>\n",
       "      <td>-54.8000</td>\n",
       "      <td>-68.3000</td>\n",
       "      <td>46.40</td>\n",
       "      <td>46</td>\n",
       "      <td>75</td>\n",
       "      <td>14.97</td>\n",
       "      <td>AR</td>\n",
       "      <td>1610464861</td>\n",
       "    </tr>\n",
       "    <tr>\n",
       "      <th>10</th>\n",
       "      <td>Ribeirão Bonito</td>\n",
       "      <td>-22.0667</td>\n",
       "      <td>-48.1761</td>\n",
       "      <td>74.84</td>\n",
       "      <td>90</td>\n",
       "      <td>100</td>\n",
       "      <td>6.51</td>\n",
       "      <td>BR</td>\n",
       "      <td>1610465024</td>\n",
       "    </tr>\n",
       "    <tr>\n",
       "      <th>14</th>\n",
       "      <td>Bariloche</td>\n",
       "      <td>-41.1456</td>\n",
       "      <td>-71.3082</td>\n",
       "      <td>55.40</td>\n",
       "      <td>30</td>\n",
       "      <td>0</td>\n",
       "      <td>12.66</td>\n",
       "      <td>AR</td>\n",
       "      <td>1610464963</td>\n",
       "    </tr>\n",
       "    <tr>\n",
       "      <th>...</th>\n",
       "      <td>...</td>\n",
       "      <td>...</td>\n",
       "      <td>...</td>\n",
       "      <td>...</td>\n",
       "      <td>...</td>\n",
       "      <td>...</td>\n",
       "      <td>...</td>\n",
       "      <td>...</td>\n",
       "      <td>...</td>\n",
       "    </tr>\n",
       "    <tr>\n",
       "      <th>578</th>\n",
       "      <td>Humaitá</td>\n",
       "      <td>-7.5061</td>\n",
       "      <td>-63.0208</td>\n",
       "      <td>91.42</td>\n",
       "      <td>51</td>\n",
       "      <td>69</td>\n",
       "      <td>3.58</td>\n",
       "      <td>BR</td>\n",
       "      <td>1610465142</td>\n",
       "    </tr>\n",
       "    <tr>\n",
       "      <th>579</th>\n",
       "      <td>Carauari</td>\n",
       "      <td>-4.8828</td>\n",
       "      <td>-66.8958</td>\n",
       "      <td>85.19</td>\n",
       "      <td>68</td>\n",
       "      <td>33</td>\n",
       "      <td>3.78</td>\n",
       "      <td>BR</td>\n",
       "      <td>1610465142</td>\n",
       "    </tr>\n",
       "    <tr>\n",
       "      <th>588</th>\n",
       "      <td>Opuwo</td>\n",
       "      <td>-18.0607</td>\n",
       "      <td>13.8400</td>\n",
       "      <td>81.97</td>\n",
       "      <td>27</td>\n",
       "      <td>83</td>\n",
       "      <td>10.58</td>\n",
       "      <td>NA</td>\n",
       "      <td>1610465144</td>\n",
       "    </tr>\n",
       "    <tr>\n",
       "      <th>590</th>\n",
       "      <td>Irará</td>\n",
       "      <td>-12.0500</td>\n",
       "      <td>-38.7667</td>\n",
       "      <td>84.33</td>\n",
       "      <td>60</td>\n",
       "      <td>66</td>\n",
       "      <td>8.86</td>\n",
       "      <td>BR</td>\n",
       "      <td>1610465144</td>\n",
       "    </tr>\n",
       "    <tr>\n",
       "      <th>594</th>\n",
       "      <td>Whittlesea</td>\n",
       "      <td>-32.1759</td>\n",
       "      <td>26.8244</td>\n",
       "      <td>79.45</td>\n",
       "      <td>54</td>\n",
       "      <td>49</td>\n",
       "      <td>13.04</td>\n",
       "      <td>ZA</td>\n",
       "      <td>1610465145</td>\n",
       "    </tr>\n",
       "  </tbody>\n",
       "</table>\n",
       "<p>192 rows × 9 columns</p>\n",
       "</div>"
      ],
      "text/plain": [
       "                City      Lat       Lng  Max Temp (F)  Humidity(%)  \\\n",
       "1           Phalombe -15.8064   35.6507         76.24           88   \n",
       "6             Avarua -21.2078 -159.7750         78.80           78   \n",
       "9            Ushuaia -54.8000  -68.3000         46.40           46   \n",
       "10   Ribeirão Bonito -22.0667  -48.1761         74.84           90   \n",
       "14         Bariloche -41.1456  -71.3082         55.40           30   \n",
       "..               ...      ...       ...           ...          ...   \n",
       "578          Humaitá  -7.5061  -63.0208         91.42           51   \n",
       "579         Carauari  -4.8828  -66.8958         85.19           68   \n",
       "588            Opuwo -18.0607   13.8400         81.97           27   \n",
       "590            Irará -12.0500  -38.7667         84.33           60   \n",
       "594       Whittlesea -32.1759   26.8244         79.45           54   \n",
       "\n",
       "     Cloudiness(%)  Wind Speed(MPH) Country        Data  \n",
       "1              100             3.56      MW  1610465022  \n",
       "6               61             8.05      CK  1610465023  \n",
       "9               75            14.97      AR  1610464861  \n",
       "10             100             6.51      BR  1610465024  \n",
       "14               0            12.66      AR  1610464963  \n",
       "..             ...              ...     ...         ...  \n",
       "578             69             3.58      BR  1610465142  \n",
       "579             33             3.78      BR  1610465142  \n",
       "588             83            10.58      NA  1610465144  \n",
       "590             66             8.86      BR  1610465144  \n",
       "594             49            13.04      ZA  1610465145  \n",
       "\n",
       "[192 rows x 9 columns]"
      ]
     },
     "execution_count": 12,
     "metadata": {},
     "output_type": "execute_result"
    }
   ],
   "source": [
    "#Northern Hemisphere Dataframe\n",
    "north_df=city_df.loc[city_df['Lat'] > 0]\n",
    "\n",
    "#Souther Hemisphere Dataframe\n",
    "south_df=city_df.loc[city_df['Lat'] < 0]"
   ]
  },
  {
   "cell_type": "markdown",
   "metadata": {},
   "source": [
    "####  Northern Hemisphere - Max Temp vs. Latitude Linear Regression"
   ]
  },
  {
   "cell_type": "code",
   "execution_count": 27,
   "metadata": {},
   "outputs": [
    {
     "name": "stdout",
     "output_type": "stream",
     "text": [
      "The r-value is: -0.8681136812934721\n"
     ]
    },
    {
     "data": {
      "image/png": "[encoded data removed]",
      "text/plain": [
       "<Figure size 432x288 with 1 Axes>"
      ]
     },
     "metadata": {
      "needs_background": "light"
     },
     "output_type": "display_data"
    }
   ],
   "source": [
    "#Linear Regression for Northern Hemisphere Lat vs Max Temp\n",
    "x_values=north_df['Lat']\n",
    "y_values=north_df['Max Temp (F)']\n",
    "(slope, intercept, rvalue, pvalue, stderr) = linregress(x_values, y_values)\n",
    "regress_values=x_values * slope + intercept\n",
    "print(f\"The r-value is: {rvalue}\")\n",
    "\n",
    "plt.scatter(north_df[\"Lat\"], north_df[\"Max Temp (F)\"], marker=\"o\")\n",
    "\n",
    "#Label scatterplot\n",
    "plt.title(\"Northern Hemisphere Lat vs Max Temperature\")\n",
    "plt.ylabel(\"Max Temerature (F)\")\n",
    "plt.xlabel(\"Latitude\")\n",
    "plt.plot(x_values,regress_values,\"r-\")\n",
    "plt.annotate(f'y = {round(slope,2)}x + {round(intercept,2)}',(2,-10),fontsize=15,color=\"red\")\n",
    "plt.show()"
   ]
  },
  {
   "cell_type": "markdown",
   "metadata": {},
   "source": [
    "As we can see from the scatterplot and line regression above, the more north the city is in latitude the max temperature starts to go down."
   ]
  },
  {
   "cell_type": "markdown",
   "metadata": {},
   "source": [
    "####  Southern Hemisphere - Max Temp vs. Latitude Linear Regression"
   ]
  },
  {
   "cell_type": "code",
   "execution_count": 22,
   "metadata": {},
   "outputs": [
    {
     "name": "stdout",
     "output_type": "stream",
     "text": [
      "The r-value is: 0.708156498322015\n"
     ]
    },
    {
     "data": {
      "image/png": "[encoded data removed]",
      "text/plain": [
       "<Figure size 432x288 with 1 Axes>"
      ]
     },
     "metadata": {
      "needs_background": "light"
     },
     "output_type": "display_data"
    }
   ],
   "source": [
    "#Linear Regression for Southern Hemisphere Lat vs Max Temp\n",
    "x_values=south_df['Lat']\n",
    "y_values=south_df['Max Temp (F)']\n",
    "(slope, intercept, rvalue, pvalue, stderr) = linregress(x_values, y_values)\n",
    "regress_values=x_values * slope + intercept\n",
    "print(f\"The r-value is: {rvalue}\")\n",
    "\n",
    "plt.scatter(south_df[\"Lat\"], south_df[\"Max Temp (F)\"], marker=\"o\")\n",
    "\n",
    "#Label scatterplot\n",
    "plt.title(\"Southern Hemisphere Lat vs Max Temperature\")\n",
    "plt.ylabel(\"Max Temerature (F)\")\n",
    "plt.xlabel(\"Latitude\")\n",
    "plt.plot(x_values,regress_values,\"r-\")\n",
    "plt.annotate(f'y = {round(slope,2)}x + {round(intercept,2)}',(-50,90),fontsize=15,color=\"red\")\n",
    "plt.show()"
   ]
  },
  {
   "cell_type": "markdown",
   "metadata": {},
   "source": [
    "As we can see from the scatterplot and line regression above, the closer the city is to the equator the max temperature begins to rise."
   ]
  },
  {
   "cell_type": "markdown",
   "metadata": {},
   "source": [
    "####  Northern Hemisphere - Humidity (%) vs. Latitude Linear Regression"
   ]
  },
  {
   "cell_type": "code",
   "execution_count": 30,
   "metadata": {},
   "outputs": [
    {
     "name": "stdout",
     "output_type": "stream",
     "text": [
      "The r-value is: 0.43817724585790563\n"
     ]
    },
    {
     "data": {
      "image/png": "[encoded data removed]",
      "text/plain": [
       "<Figure size 432x288 with 1 Axes>"
      ]
     },
     "metadata": {
      "needs_background": "light"
     },
     "output_type": "display_data"
    }
   ],
   "source": [
    "#Linear Regression for Northern Hemisphere Lat vs Humidity\n",
    "x_values=north_df['Lat']\n",
    "y_values=north_df['Humidity(%)']\n",
    "(slope, intercept, rvalue, pvalue, stderr) = linregress(x_values, y_values)\n",
    "regress_values=x_values * slope + intercept\n",
    "print(f\"The r-value is: {rvalue}\")\n",
    "\n",
    "plt.scatter(north_df[\"Lat\"], north_df[\"Humidity(%)\"], marker=\"o\")\n",
    "\n",
    "#Label scatterplot\n",
    "plt.title(\"Northern Hemisphere Lat vs Humidity(%)\")\n",
    "plt.ylabel(\"Humidity(%)\")\n",
    "plt.xlabel(\"Latitude\")\n",
    "plt.plot(x_values,regress_values,\"r-\")\n",
    "plt.annotate(f'y = {round(slope,2)}x + {round(intercept,2)}',(45,10),fontsize=15,color=\"red\")\n",
    "plt.show()"
   ]
  },
  {
   "cell_type": "markdown",
   "metadata": {},
   "source": [
    "As we can see from the scatterplot and line regression above, there is a big range of level of humidity for cities between 0 and 20 degrees latitude. Once the latitude is above 40 humidity starts to stay above 60% with a few outliers below but not as much closer to the equator"
   ]
  },
  {
   "cell_type": "markdown",
   "metadata": {},
   "source": [
    "####  Southern Hemisphere - Humidity (%) vs. Latitude Linear Regression"
   ]
  },
  {
   "cell_type": "code",
   "execution_count": 33,
   "metadata": {},
   "outputs": [
    {
     "name": "stdout",
     "output_type": "stream",
     "text": [
      "The r-value is: 0.19498164613167696\n"
     ]
    },
    {
     "data": {
      "image/png": "[encoded data removed]",
      "text/plain": [
       "<Figure size 432x288 with 1 Axes>"
      ]
     },
     "metadata": {
      "needs_background": "light"
     },
     "output_type": "display_data"
    }
   ],
   "source": [
    "#Linear Regression for Southern Hemisphere Lat vs Humidity\n",
    "x_values=south_df['Lat']\n",
    "y_values=south_df['Humidity(%)']\n",
    "(slope, intercept, rvalue, pvalue, stderr) = linregress(x_values, y_values)\n",
    "regress_values=x_values * slope + intercept\n",
    "print(f\"The r-value is: {rvalue}\")\n",
    "\n",
    "plt.scatter(south_df[\"Lat\"], south_df[\"Humidity(%)\"], marker=\"o\")\n",
    "\n",
    "#Label scatterplot\n",
    "plt.title(\"Southern Hemisphere Lat vs Humidity(%)\")\n",
    "plt.ylabel(\"Humidity(%)\")\n",
    "plt.xlabel(\"Latitude\")\n",
    "plt.plot(x_values,regress_values,\"r-\")\n",
    "plt.annotate(f'y = {round(slope,2)}x + {round(intercept,2)}',(-25,20),fontsize=15,color=\"red\")\n",
    "plt.show()"
   ]
  },
  {
   "cell_type": "markdown",
   "metadata": {},
   "source": [
    "As we can see from the scatterplot and line regression above, latitude doesnt seem to have much of an effect in the southern hemisphere as the range of humidity  sits between 20% and 100% with all degrees of latitude"
   ]
  },
  {
   "cell_type": "markdown",
   "metadata": {},
   "source": [
    "####  Northern Hemisphere - Cloudiness (%) vs. Latitude Linear Regression"
   ]
  },
  {
   "cell_type": "code",
   "execution_count": 34,
   "metadata": {},
   "outputs": [
    {
     "name": "stdout",
     "output_type": "stream",
     "text": [
      "The r-value is: 0.22214755183498883\n"
     ]
    },
    {
     "data": {
      "image/png": "[encoded data removed]",
      "text/plain": [
       "<Figure size 432x288 with 1 Axes>"
      ]
     },
     "metadata": {
      "needs_background": "light"
     },
     "output_type": "display_data"
    }
   ],
   "source": [
    "#Linear Regression for Northern Hemisphere Lat vs Cloudiness(%)\n",
    "x_values=north_df['Lat']\n",
    "y_values=north_df['Cloudiness(%)']\n",
    "(slope, intercept, rvalue, pvalue, stderr) = linregress(x_values, y_values)\n",
    "regress_values=x_values * slope + intercept\n",
    "print(f\"The r-value is: {rvalue}\")\n",
    "\n",
    "plt.scatter(north_df[\"Lat\"], north_df[\"Cloudiness(%)\"], marker=\"o\")\n",
    "\n",
    "#Label scatterplot\n",
    "plt.title(\"Northern Hemisphere Lat vs Cloudiness(%)\")\n",
    "plt.ylabel(\"Cloudiness(%)\")\n",
    "plt.xlabel(\"Latitude\")\n",
    "plt.plot(x_values,regress_values,\"r-\")\n",
    "plt.annotate(f'y = {round(slope,2)}x + {round(intercept,2)}',(45,10),fontsize=15,color=\"red\")\n",
    "plt.show()"
   ]
  },
  {
   "cell_type": "markdown",
   "metadata": {},
   "source": [
    "As we can see from the scatterplot and line regression above, latitude does not effect the cloudiness of a city."
   ]
  },
  {
   "cell_type": "markdown",
   "metadata": {},
   "source": [
    "####  Southern Hemisphere - Cloudiness (%) vs. Latitude Linear Regression"
   ]
  },
  {
   "cell_type": "code",
   "execution_count": 40,
   "metadata": {},
   "outputs": [
    {
     "name": "stdout",
     "output_type": "stream",
     "text": [
      "The r-value is: 0.2732818243406041\n"
     ]
    },
    {
     "data": {
      "image/png": "[encoded data removed]",
      "text/plain": [
       "<Figure size 432x288 with 1 Axes>"
      ]
     },
     "metadata": {
      "needs_background": "light"
     },
     "output_type": "display_data"
    }
   ],
   "source": [
    "#Linear Regression for Southern Hemisphere Lat vs Cloudiness(%)\n",
    "x_values=south_df['Lat']\n",
    "y_values=south_df['Cloudiness(%)']\n",
    "(slope, intercept, rvalue, pvalue, stderr) = linregress(x_values, y_values)\n",
    "regress_values=x_values * slope + intercept\n",
    "print(f\"The r-value is: {rvalue}\")\n",
    "\n",
    "plt.scatter(south_df[\"Lat\"], south_df[\"Cloudiness(%)\"], marker=\"o\")\n",
    "\n",
    "#Label scatterplot\n",
    "plt.title(\"Southern Hemisphere Lat vs Cloudiness(%)\")\n",
    "plt.ylabel(\"Cloudiness(%)\")\n",
    "plt.xlabel(\"Latitude\")\n",
    "plt.plot(x_values,regress_values,\"r-\")\n",
    "plt.annotate(f'y = {round(slope,2)}x + {round(intercept,2)}',(-55,60),fontsize=15,color=\"red\")\n",
    "plt.show()"
   ]
  },
  {
   "cell_type": "markdown",
   "metadata": {},
   "source": [
    "As we can see from the scatterplot and line regression above, latitude does not effect the cloudiness of a city. It does seem that the further south from the equator you go cloudiness stays between 20 and 80% but this may due to a lower number of cities further south than -50 degrees latitude."
   ]
  },
  {
   "cell_type": "markdown",
   "metadata": {},
   "source": [
    "####  Northern Hemisphere - Wind Speed (mph) vs. Latitude Linear Regression"
   ]
  },
  {
   "cell_type": "code",
   "execution_count": 42,
   "metadata": {},
   "outputs": [
    {
     "name": "stdout",
     "output_type": "stream",
     "text": [
      "The r-value is: -0.042197555764530305\n"
     ]
    },
    {
     "data": {
      "image/png": "[encoded data removed]",
      "text/plain": [
       "<Figure size 432x288 with 1 Axes>"
      ]
     },
     "metadata": {
      "needs_background": "light"
     },
     "output_type": "display_data"
    }
   ],
   "source": [
    "#Linear Regression for Northern Hemisphere Lat vs Wind Speed(MPH)\n",
    "x_values=north_df['Lat']\n",
    "y_values=north_df['Wind Speed(MPH)']\n",
    "(slope, intercept, rvalue, pvalue, stderr) = linregress(x_values, y_values)\n",
    "regress_values=x_values * slope + intercept\n",
    "print(f\"The r-value is: {rvalue}\")\n",
    "\n",
    "plt.scatter(north_df[\"Lat\"], north_df[\"Wind Speed(MPH)\"], marker=\"o\")\n",
    "\n",
    "#Label scatterplot\n",
    "plt.title(\"Northern Hemisphere Lat vs Wind Speed(MPH)\")\n",
    "plt.ylabel(\"Wind Speed(MPH)\")\n",
    "plt.xlabel(\"Latitude\")\n",
    "plt.plot(x_values,regress_values,\"r-\")\n",
    "plt.annotate(f'y = {round(slope,2)}x + {round(intercept,2)}',(45,30),fontsize=15,color=\"red\")\n",
    "plt.show()"
   ]
  },
  {
   "cell_type": "markdown",
   "metadata": {},
   "source": [
    "As we can see from the scatterplot and line regression above, latitude does not effect windspeed as windspeed has a wide range of values."
   ]
  },
  {
   "cell_type": "markdown",
   "metadata": {},
   "source": [
    "####  Southern Hemisphere - Wind Speed (mph) vs. Latitude Linear Regression"
   ]
  },
  {
   "cell_type": "code",
   "execution_count": 44,
   "metadata": {},
   "outputs": [
    {
     "name": "stdout",
     "output_type": "stream",
     "text": [
      "The r-value is: -0.18018972576664824\n"
     ]
    },
    {
     "data": {
      "image/png": "[encoded data removed]",
      "text/plain": [
       "<Figure size 432x288 with 1 Axes>"
      ]
     },
     "metadata": {
      "needs_background": "light"
     },
     "output_type": "display_data"
    }
   ],
   "source": [
    "#Linear Regression for Southern Hemisphere Lat vs Wind Speed(MPH)\n",
    "x_values=south_df['Lat']\n",
    "y_values=south_df['Wind Speed(MPH)']\n",
    "(slope, intercept, rvalue, pvalue, stderr) = linregress(x_values, y_values)\n",
    "regress_values=x_values * slope + intercept\n",
    "print(f\"The r-value is: {rvalue}\")\n",
    "\n",
    "plt.scatter(south_df[\"Lat\"], south_df[\"Wind Speed(MPH)\"], marker=\"o\")\n",
    "\n",
    "#Label scatterplot\n",
    "plt.title(\"Southern Hemisphere Lat vs Wind Speed(MPH)\")\n",
    "plt.ylabel(\"Wind Speed(MPH)\")\n",
    "plt.xlabel(\"Latitude\")\n",
    "plt.plot(x_values,regress_values,\"r-\")\n",
    "plt.annotate(f'y = {round(slope,2)}x + {round(intercept,2)}',(-55,25),fontsize=15,color=\"red\")\n",
    "plt.show()"
   ]
  },
  {
   "cell_type": "markdown",
   "metadata": {},
   "source": [
    "As we can see from the scatterplot and line regression above, latitude does not effect windspeed as windspeed has a wide range of values but -50 degrees latitude has the highest windspeed but there is not enough data to determine if this is more than an outlier."
   ]
  },
  {
   "cell_type": "code",
   "execution_count": null,
   "metadata": {},
   "outputs": [],
   "source": []
  }
 ],
 "metadata": {
  "anaconda-cloud": {},
  "kernel_info": {
   "name": "python3"
  },
  "kernelspec": {
   "display_name": "Python [conda env:PythonData] *",
   "language": "python",
   "name": "conda-env-PythonData-py"
  },
  "language_info": {
   "codemirror_mode": {
    "name": "ipython",
    "version": 3
   },
   "file_extension": ".py",
   "mimetype": "text/x-python",
   "name": "python",
   "nbconvert_exporter": "python",
   "pygments_lexer": "ipython3",
   "version": "3.7.1"
  },
  "latex_envs": {
   "LaTeX_envs_menu_present": true,
   "autoclose": false,
   "autocomplete": true,
   "bibliofile": "biblio.bib",
   "cite_by": "apalike",
   "current_citInitial": 1,
   "eqLabelWithNumbers": true,
   "eqNumInitial": 1,
   "hotkeys": {
    "equation": "Ctrl-E",
    "itemize": "Ctrl-I"
   },
   "labels_anchors": false,
   "latex_user_defs": false,
   "report_style_numbering": false,
   "user_envs_cfg": false
  },
  "nteract": {
   "version": "0.12.3"
  }
 },
 "nbformat": 4,
 "nbformat_minor": 2
}
